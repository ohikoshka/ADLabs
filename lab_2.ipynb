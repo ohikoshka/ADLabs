{
 "cells": [
  {
   "metadata": {},
   "cell_type": "markdown",
   "source": [
    "#### Імпортуємо всі бібліотеки"
   ],
   "id": "8cdc297033f38760"
  },
  {
   "cell_type": "code",
   "id": "initial_id",
   "metadata": {
    "collapsed": true,
    "ExecuteTime": {
     "end_time": "2024-06-01T07:00:23.976461500Z",
     "start_time": "2024-06-01T07:00:22.552706600Z"
    }
   },
   "source": [
    "import datetime\n",
    "import os\n",
    "import urllib\n",
    "import urllib.request\n",
    "import matplotlib.pyplot as plt\n",
    "import pandas as pd\n",
    "import glob\n",
    "import os\n",
    "\n",
    "print(\"Setup complete!\")"
   ],
   "outputs": [
    {
     "name": "stdout",
     "output_type": "stream",
     "text": [
      "Setup complete!\n"
     ]
    }
   ],
   "execution_count": 1
  },
  {
   "cell_type": "code",
   "source": [
    "folder_path = 'download'\n",
    "if not os.path.exists(folder_path):\n",
    "    os.makedirs(folder_path, exist_ok=True)\n",
    "print(f\"Folder '{folder_path}' was successfully created or already exists.\")"
   ],
   "metadata": {
    "collapsed": false
   },
   "id": "d78d0591eb65a467",
   "outputs": [],
   "execution_count": null
  },
  {
   "cell_type": "markdown",
   "source": [
    "#### Функція для завантаження даних"
   ],
   "metadata": {
    "collapsed": false
   },
   "id": "ec892ee5a3ca9128"
  },
  {
   "cell_type": "code",
   "source": [
    "def download_data(province_id, year1=1981, year2=2024):\n",
    "    url = f\"https://www.star.nesdis.noaa.gov/smcd/emb/vci/VH/get_TS_admin.php?country=UKR&provinceID={province_id}&year1={year1}&year2={year2}&type=Mean\"\n",
    "    response = urllib.request.urlopen(url)\n",
    "    \n",
    "    if response.status == 200:  \n",
    "        current_datetime = datetime.datetime.now().strftime('%Y-%m-%d_%H-%M')\n",
    "        filename = f'vhi_id__{province_id}__{current_datetime}.csv'\n",
    "        with open(f'download/{filename}', 'wb') as out: \n",
    "            out.write(response.read())\n",
    "        print(f\"VHI is downloaded for province ID {province_id} into {filename}\")\n",
    "    else:\n",
    "        print(f\"Failed to download data for province ID {province_id}. HTTP status code: {response.status}\")"
   ],
   "metadata": {
    "collapsed": false
   },
   "id": "c54eeeab94990bcc",
   "outputs": [],
   "execution_count": null
  },
  {
   "cell_type": "markdown",
   "source": [
    "#### Завантаження тестових структуровних даних за номером області"
   ],
   "metadata": {
    "collapsed": false
   },
   "id": "f5256dd674aa6095"
  },
  {
   "cell_type": "code",
   "source": [
    "for i in range(1, 28):\n",
    "    download_data(i)\n",
    "print(\"The loading of test structural data was successful\")"
   ],
   "metadata": {
    "collapsed": false
   },
   "id": "3f6bcfb87ad6ba55",
   "outputs": [],
   "execution_count": null
  },
  {
   "cell_type": "markdown",
   "source": [
    "#### Відповідність id регіону та його назви"
   ],
   "metadata": {
    "collapsed": false
   },
   "id": "78ce2e33449f2538"
  },
  {
   "cell_type": "code",
   "source": [
    "reg_id_name = {\n",
    "    1: \"Cherkasy\",\n",
    "    2: \"Chernihiv\",\n",
    "    3: \"Chernivtsi\",\n",
    "    4: \"Crimea\",\n",
    "    5: \"Dnipropetrovs'k\",\n",
    "    6: \"Donets'k\",\n",
    "    7: \"Ivano-Frankivs'k\",\n",
    "    8: \"Kharkiv\",\n",
    "    9: \"Kherson\",\n",
    "    10: \"Khmel'nyts'kyy\",\n",
    "    11: \"Kiev\",\n",
    "    12: \"Kiev City\",\n",
    "    13: \"Kirovohrad\",\n",
    "    14: \"Luhans'k\",\n",
    "    15: \"L'viv\",\n",
    "    16: \"Mykolayiv\",\n",
    "    17: \"Odessa\",\n",
    "    18: \"Poltava\",\n",
    "    19: \"Rivne\",\n",
    "    20: \"Sevastopol\",\n",
    "    21: \"Sumy\",\n",
    "    22: \"Ternopil'\",\n",
    "    23: \"Transcarpathia\",\n",
    "    24: \"Vinnytsya\",\n",
    "    25: \"Volyn\",\n",
    "    26: \"Zaporizhzhya\",\n",
    "    27: \"Zhytomyr\",\n",
    "}"
   ],
   "metadata": {
    "collapsed": false
   },
   "id": "b6dac60730b403b9",
   "outputs": [],
   "execution_count": null
  },
  {
   "cell_type": "markdown",
   "source": [
    "#### Функція ощищення даних і створення загального DataFrame"
   ],
   "metadata": {
    "collapsed": false
   },
   "id": "f17e39f4e79f1216"
  },
  {
   "cell_type": "code",
   "source": [
    "import glob\n",
    "import pandas as pd\n",
    "def create_data_frame(folder_path1):\n",
    "\n",
    "    csv_files = glob.glob(folder_path1 + \"/*.csv\")\n",
    "\n",
    "    headers = ['Year', 'Week', 'SMN', 'SMT', 'VCI', 'TCI', 'VHI', 'empty']\n",
    "    frames = []\n",
    "\n",
    "    for file in csv_files:\n",
    "        region_id1 = int(file.split('__')[1]) \n",
    "        df = pd.read_csv(file, header=1, names=headers)  \n",
    "        df.at[0, 'Year'] =  df.at[0, 'Year'][9:]\n",
    "        df=df.drop(df.index[-1])\n",
    "        df = df.drop(df.loc[df['VHI'] == -1].index)\n",
    "        df = df.drop('empty', axis=1)\n",
    "        df.insert(0, 'region_id', region_id1, True)\n",
    "        frames.append(df)\n",
    "        \n",
    "    result = pd.concat(frames).drop_duplicates().reset_index(drop=True)\n",
    "    return result"
   ],
   "metadata": {
    "collapsed": false
   },
   "id": "a660f0102da58d0f",
   "outputs": [],
   "execution_count": null
  },
  {
   "cell_type": "code",
   "source": [
    "result_df = create_data_frame('download')\n",
    "print(result_df)"
   ],
   "metadata": {
    "collapsed": false
   },
   "id": "140a2b817d6c29ff",
   "outputs": [],
   "execution_count": null
  },
  {
   "cell_type": "markdown",
   "source": [
    "####  Ряд VHI для області за вказаний рік, пошук екстремумів (min та max);"
   ],
   "metadata": {
    "collapsed": false
   },
   "id": "2a2c49b6391b63f3"
  },
  {
   "cell_type": "code",
   "source": [
    "def region_year_analysis(region_id, years=(\"1982\", \"2024\")):\n",
    "    result_df['Year'] = pd.to_numeric(result_df['Year'])\n",
    "\n",
    "    df2 = result_df[(result_df[\"Year\"].between(int(years[0]), int(years[1]))) & (result_df['region_id'] == region_id)]\n",
    "    region_name = reg_id_name[region_id]\n",
    "    vhi_max_reg = df2[\"VHI\"].max()\n",
    "    vhi_min_reg = df2[\"VHI\"].min()\n",
    "    print(f\"[+] {region_name}: min {vhi_min_reg} max {vhi_max_reg}\")\n",
    "    # print(df2.head())  # Для перегляду перших кількох рядків фільтрованого датафрейму"
   ],
   "metadata": {
    "collapsed": false
   },
   "id": "dd5e0c0aa69f5c91",
   "outputs": [],
   "execution_count": null
  },
  {
   "cell_type": "code",
   "source": [
    "for i in range(1, 28):\n",
    "    region_year_analysis(region_id=i, years=(\"1985\", \"2010\"))"
   ],
   "metadata": {
    "collapsed": false
   },
   "id": "52beb017180899d9",
   "outputs": [],
   "execution_count": null
  },
  {
   "metadata": {},
   "cell_type": "markdown",
   "source": [
    "#### Роки, протягом яких екстремальні посухи торкнулися більше вказаного відсотка областей по Україні"
   ],
   "id": "b138a912eaa967eb"
  },
  {
   "cell_type": "code",
   "source": [
    "def drought_years_analysis(df, years_range=(\"1981\", \"2024\"), threshold_extreme=15, threshold_moderate=(15, 35), percent_threshold=20):\n",
    "    extreme_drought_years = []\n",
    "    moderate_drought_years = []\n",
    "\n",
    "    total_regions = len(set(df['region_id']))\n",
    "    min_regions_affected = (percent_threshold / 100) * total_regions\n",
    "\n",
    "    for year in range(int(years_range[0]), int(years_range[1]) + 1):\n",
    "        yearly_data = df[df['Year'] == year]\n",
    "        extreme_drought_count = len(yearly_data[yearly_data['VHI'] < threshold_extreme])\n",
    "        moderate_drought_count = len(yearly_data[(yearly_data['VHI'] >= threshold_moderate[0]) & (yearly_data['VHI'] <= threshold_moderate[1])])\n",
    "\n",
    "        if extreme_drought_count >= min_regions_affected:\n",
    "            extreme_drought_years.append(year)\n",
    "        if moderate_drought_count >= min_regions_affected:\n",
    "            moderate_drought_years.append(year)\n",
    "\n",
    "    return extreme_drought_years, moderate_drought_years"
   ],
   "metadata": {
    "collapsed": false
   },
   "id": "69b657bd77bb2338",
   "outputs": [],
   "execution_count": null
  },
  {
   "cell_type": "code",
   "source": [
    "selected_regions = [3, 5, 12]  \n",
    "selected_years = (\"2005\", \"2015\")\n",
    "# vhi_for_regions_and_years(selected_regions, selected_years)  "
   ],
   "metadata": {
    "collapsed": false
   },
   "id": "7c5210a777395a0e",
   "outputs": [],
   "execution_count": null
  },
  {
   "cell_type": "code",
   "source": [
    "extreme_drought_years, moderate_drought_years = drought_years_analysis(result_df, years_range=(\"2000\", \"2010\"))\n",
    "print(\"Роки з екстремальними посухами:\", extreme_drought_years)\n",
    "print(\"Роки з помірними посухами:\", moderate_drought_years)"
   ],
   "metadata": {
    "collapsed": false
   },
   "id": "44d151f040d75f4b",
   "outputs": [],
   "execution_count": null
  },
  {
   "cell_type": "code",
   "source": [],
   "metadata": {
    "collapsed": false
   },
   "id": "c268b7e6eb722f3f",
   "outputs": [],
   "execution_count": null
  }
 ],
 "metadata": {
  "kernelspec": {
   "display_name": "Python 3",
   "language": "python",
   "name": "python3"
  },
  "language_info": {
   "codemirror_mode": {
    "name": "ipython",
    "version": 2
   },
   "file_extension": ".py",
   "mimetype": "text/x-python",
   "name": "python",
   "nbconvert_exporter": "python",
   "pygments_lexer": "ipython2",
   "version": "2.7.6"
  }
 },
 "nbformat": 4,
 "nbformat_minor": 5
}
